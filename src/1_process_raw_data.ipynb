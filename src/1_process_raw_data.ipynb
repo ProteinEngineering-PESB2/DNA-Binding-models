{
 "cells": [
  {
   "cell_type": "code",
   "execution_count": 1,
   "metadata": {},
   "outputs": [],
   "source": [
    "import pandas as pd"
   ]
  },
  {
   "cell_type": "code",
   "execution_count": 2,
   "metadata": {},
   "outputs": [],
   "source": [
    "def get_lenght_sequences(df_data):\n",
    "\n",
    "    array_length = []\n",
    "\n",
    "    for index in df_data.index:\n",
    "        array_length.append(len(df_data['sequence'][index]))\n",
    "    \n",
    "    return array_length"
   ]
  },
  {
   "cell_type": "code",
   "execution_count": 3,
   "metadata": {},
   "outputs": [],
   "source": [
    "df_data = pd.read_csv(\"../dataset_merge_filter.csv\")\n",
    "df_data_dna_binding = df_data[[\"ID\", \"sequence\", \"dna_interaction\"]]\n",
    "df_data_single_double = df_data[[\"ID\", \"sequence\", \"single dna\", \"double dna\"]]\n",
    "\n",
    "df_data_dna_binding = df_data_dna_binding.dropna()\n",
    "df_data_single_double = df_data_single_double.dropna()"
   ]
  },
  {
   "cell_type": "code",
   "execution_count": 4,
   "metadata": {},
   "outputs": [
    {
     "data": {
      "text/plain": [
       "1234"
      ]
     },
     "execution_count": 4,
     "metadata": {},
     "output_type": "execute_result"
    }
   ],
   "source": [
    "len(df_data_single_double)"
   ]
  },
  {
   "cell_type": "code",
   "execution_count": 5,
   "metadata": {},
   "outputs": [
    {
     "data": {
      "text/plain": [
       "47541"
      ]
     },
     "execution_count": 5,
     "metadata": {},
     "output_type": "execute_result"
    }
   ],
   "source": [
    "len(df_data_dna_binding)"
   ]
  },
  {
   "cell_type": "code",
   "execution_count": 6,
   "metadata": {},
   "outputs": [],
   "source": [
    "df_data_dna_binding['lenght_seq'] = get_lenght_sequences(df_data_dna_binding)\n",
    "df_data_single_double['lenght_seq'] = get_lenght_sequences(df_data_single_double)"
   ]
  },
  {
   "cell_type": "code",
   "execution_count": 7,
   "metadata": {},
   "outputs": [],
   "source": [
    "df_data_dna_binding_filter = df_data_dna_binding[(df_data_dna_binding['lenght_seq']<1024) & (df_data_dna_binding['lenght_seq']>50)]\n",
    "df_data_single_double_filter = df_data_single_double[(df_data_single_double['lenght_seq']<1024) & (df_data_single_double['lenght_seq']>50)]\n"
   ]
  },
  {
   "cell_type": "code",
   "execution_count": 8,
   "metadata": {},
   "outputs": [
    {
     "data": {
      "text/html": [
       "<div>\n",
       "<style scoped>\n",
       "    .dataframe tbody tr th:only-of-type {\n",
       "        vertical-align: middle;\n",
       "    }\n",
       "\n",
       "    .dataframe tbody tr th {\n",
       "        vertical-align: top;\n",
       "    }\n",
       "\n",
       "    .dataframe thead th {\n",
       "        text-align: right;\n",
       "    }\n",
       "</style>\n",
       "<table border=\"1\" class=\"dataframe\">\n",
       "  <thead>\n",
       "    <tr style=\"text-align: right;\">\n",
       "      <th></th>\n",
       "      <th>ID</th>\n",
       "      <th>sequence</th>\n",
       "      <th>single dna</th>\n",
       "      <th>double dna</th>\n",
       "      <th>lenght_seq</th>\n",
       "    </tr>\n",
       "  </thead>\n",
       "  <tbody>\n",
       "    <tr>\n",
       "      <th>31</th>\n",
       "      <td>4G4KA</td>\n",
       "      <td>MDNSVETIELKRGSNSVYVQYDDIMFFESSTKSHRLIAHLDNRQIE...</td>\n",
       "      <td>0.0</td>\n",
       "      <td>1.0</td>\n",
       "      <td>103</td>\n",
       "    </tr>\n",
       "    <tr>\n",
       "      <th>52</th>\n",
       "      <td>3V68A</td>\n",
       "      <td>MIERILEFTAKHEEWIVGENVEDFTNENIAMFLSRVSNTVSSKIPG...</td>\n",
       "      <td>0.0</td>\n",
       "      <td>1.0</td>\n",
       "      <td>252</td>\n",
       "    </tr>\n",
       "    <tr>\n",
       "      <th>53</th>\n",
       "      <td>4ACOA</td>\n",
       "      <td>MRSSILFLLKLMKIMDVQQQQEAMSSEDRFQELVDSLKPRTAHQYK...</td>\n",
       "      <td>0.0</td>\n",
       "      <td>1.0</td>\n",
       "      <td>956</td>\n",
       "    </tr>\n",
       "    <tr>\n",
       "      <th>60</th>\n",
       "      <td>3ULJA</td>\n",
       "      <td>GSDPQVLRGSGHCKWFNVRMGFGFISMTSREGSPLENPVDVFVHQS...</td>\n",
       "      <td>1.0</td>\n",
       "      <td>0.0</td>\n",
       "      <td>90</td>\n",
       "    </tr>\n",
       "    <tr>\n",
       "      <th>62</th>\n",
       "      <td>3U50C</td>\n",
       "      <td>QRIYSSIEEIIQQAQASEIGQKKEFYVYGNLVSIQMKNKLYYYRCT...</td>\n",
       "      <td>1.0</td>\n",
       "      <td>0.0</td>\n",
       "      <td>172</td>\n",
       "    </tr>\n",
       "    <tr>\n",
       "      <th>...</th>\n",
       "      <td>...</td>\n",
       "      <td>...</td>\n",
       "      <td>...</td>\n",
       "      <td>...</td>\n",
       "      <td>...</td>\n",
       "    </tr>\n",
       "    <tr>\n",
       "      <th>47963</th>\n",
       "      <td>P59933</td>\n",
       "      <td>MYNKVILVGNLTRDVELRYLPSGSALAKIGIATNRRFKKQDGSQGD...</td>\n",
       "      <td>1.0</td>\n",
       "      <td>0.0</td>\n",
       "      <td>162</td>\n",
       "    </tr>\n",
       "    <tr>\n",
       "      <th>47964</th>\n",
       "      <td>P11031</td>\n",
       "      <td>MPKSKELVSSSSSGSDSDSEVEKKLKRKKQAVPEKPVKKQKPGETS...</td>\n",
       "      <td>1.0</td>\n",
       "      <td>0.0</td>\n",
       "      <td>127</td>\n",
       "    </tr>\n",
       "    <tr>\n",
       "      <th>47965</th>\n",
       "      <td>P20703</td>\n",
       "      <td>MDIKVHFHDFSHVRIDCEESTFHELRDFFSFEADGYRFNPRFRYGN...</td>\n",
       "      <td>1.0</td>\n",
       "      <td>0.0</td>\n",
       "      <td>587</td>\n",
       "    </tr>\n",
       "    <tr>\n",
       "      <th>47966</th>\n",
       "      <td>P16220</td>\n",
       "      <td>MTMESGAENQQSGDAAVTEAENQQMTVQAQPQIATLAQVSMPAAHA...</td>\n",
       "      <td>0.0</td>\n",
       "      <td>1.0</td>\n",
       "      <td>327</td>\n",
       "    </tr>\n",
       "    <tr>\n",
       "      <th>47967</th>\n",
       "      <td>P19436</td>\n",
       "      <td>MAAKKTVTKADLVDQVAQATGLKKKDVKAMVDALLAKVEEALANGS...</td>\n",
       "      <td>0.0</td>\n",
       "      <td>1.0</td>\n",
       "      <td>97</td>\n",
       "    </tr>\n",
       "  </tbody>\n",
       "</table>\n",
       "<p>1233 rows × 5 columns</p>\n",
       "</div>"
      ],
      "text/plain": [
       "           ID                                           sequence  single dna  \\\n",
       "31      4G4KA  MDNSVETIELKRGSNSVYVQYDDIMFFESSTKSHRLIAHLDNRQIE...         0.0   \n",
       "52      3V68A  MIERILEFTAKHEEWIVGENVEDFTNENIAMFLSRVSNTVSSKIPG...         0.0   \n",
       "53      4ACOA  MRSSILFLLKLMKIMDVQQQQEAMSSEDRFQELVDSLKPRTAHQYK...         0.0   \n",
       "60      3ULJA  GSDPQVLRGSGHCKWFNVRMGFGFISMTSREGSPLENPVDVFVHQS...         1.0   \n",
       "62      3U50C  QRIYSSIEEIIQQAQASEIGQKKEFYVYGNLVSIQMKNKLYYYRCT...         1.0   \n",
       "...       ...                                                ...         ...   \n",
       "47963  P59933  MYNKVILVGNLTRDVELRYLPSGSALAKIGIATNRRFKKQDGSQGD...         1.0   \n",
       "47964  P11031  MPKSKELVSSSSSGSDSDSEVEKKLKRKKQAVPEKPVKKQKPGETS...         1.0   \n",
       "47965  P20703  MDIKVHFHDFSHVRIDCEESTFHELRDFFSFEADGYRFNPRFRYGN...         1.0   \n",
       "47966  P16220  MTMESGAENQQSGDAAVTEAENQQMTVQAQPQIATLAQVSMPAAHA...         0.0   \n",
       "47967  P19436  MAAKKTVTKADLVDQVAQATGLKKKDVKAMVDALLAKVEEALANGS...         0.0   \n",
       "\n",
       "       double dna  lenght_seq  \n",
       "31            1.0         103  \n",
       "52            1.0         252  \n",
       "53            1.0         956  \n",
       "60            0.0          90  \n",
       "62            0.0         172  \n",
       "...           ...         ...  \n",
       "47963         0.0         162  \n",
       "47964         0.0         127  \n",
       "47965         0.0         587  \n",
       "47966         1.0         327  \n",
       "47967         1.0          97  \n",
       "\n",
       "[1233 rows x 5 columns]"
      ]
     },
     "execution_count": 8,
     "metadata": {},
     "output_type": "execute_result"
    }
   ],
   "source": [
    "df_data_single_double_filter"
   ]
  },
  {
   "cell_type": "code",
   "execution_count": 9,
   "metadata": {},
   "outputs": [],
   "source": [
    "df_data_dna_binding_filter.to_csv(\"../dataset_to_encode/dna_binding_process.csv\", index=False)"
   ]
  },
  {
   "cell_type": "code",
   "execution_count": 10,
   "metadata": {},
   "outputs": [
    {
     "data": {
      "text/html": [
       "<div>\n",
       "<style scoped>\n",
       "    .dataframe tbody tr th:only-of-type {\n",
       "        vertical-align: middle;\n",
       "    }\n",
       "\n",
       "    .dataframe tbody tr th {\n",
       "        vertical-align: top;\n",
       "    }\n",
       "\n",
       "    .dataframe thead th {\n",
       "        text-align: right;\n",
       "    }\n",
       "</style>\n",
       "<table border=\"1\" class=\"dataframe\">\n",
       "  <thead>\n",
       "    <tr style=\"text-align: right;\">\n",
       "      <th></th>\n",
       "      <th>sequence</th>\n",
       "      <th>type_interaction</th>\n",
       "    </tr>\n",
       "  </thead>\n",
       "  <tbody>\n",
       "    <tr>\n",
       "      <th>60</th>\n",
       "      <td>GSDPQVLRGSGHCKWFNVRMGFGFISMTSREGSPLENPVDVFVHQS...</td>\n",
       "      <td>single</td>\n",
       "    </tr>\n",
       "    <tr>\n",
       "      <th>62</th>\n",
       "      <td>QRIYSSIEEIIQQAQASEIGQKKEFYVYGNLVSIQMKNKLYYYRCT...</td>\n",
       "      <td>single</td>\n",
       "    </tr>\n",
       "    <tr>\n",
       "      <th>74</th>\n",
       "      <td>MGEELREEERGEVRSELITKGEKKLVLIRWNTGKTSAGRLFGRYGP...</td>\n",
       "      <td>single</td>\n",
       "    </tr>\n",
       "    <tr>\n",
       "      <th>89</th>\n",
       "      <td>MEGWQRAFVLHSRPWSETSLMLDVFTEESGRVRLVAKGARSKRSTL...</td>\n",
       "      <td>single</td>\n",
       "    </tr>\n",
       "    <tr>\n",
       "      <th>188</th>\n",
       "      <td>MARGMNHVYLIGALARDPELRYTGNGMAVFEATVAGEDRVIGNDGR...</td>\n",
       "      <td>single</td>\n",
       "    </tr>\n",
       "    <tr>\n",
       "      <th>...</th>\n",
       "      <td>...</td>\n",
       "      <td>...</td>\n",
       "    </tr>\n",
       "    <tr>\n",
       "      <th>47961</th>\n",
       "      <td>MASRGINKVILVGNLGNDPEIRYMPSGGAVANITVATSETWRDKAT...</td>\n",
       "      <td>single</td>\n",
       "    </tr>\n",
       "    <tr>\n",
       "      <th>47962</th>\n",
       "      <td>MARGINKVILVGNLGNDPDTKYTQAGMAITRVSLATTSMRKDRDGN...</td>\n",
       "      <td>single</td>\n",
       "    </tr>\n",
       "    <tr>\n",
       "      <th>47963</th>\n",
       "      <td>MYNKVILVGNLTRDVELRYLPSGSALAKIGIATNRRFKKQDGSQGD...</td>\n",
       "      <td>single</td>\n",
       "    </tr>\n",
       "    <tr>\n",
       "      <th>47964</th>\n",
       "      <td>MPKSKELVSSSSSGSDSDSEVEKKLKRKKQAVPEKPVKKQKPGETS...</td>\n",
       "      <td>single</td>\n",
       "    </tr>\n",
       "    <tr>\n",
       "      <th>47965</th>\n",
       "      <td>MDIKVHFHDFSHVRIDCEESTFHELRDFFSFEADGYRFNPRFRYGN...</td>\n",
       "      <td>single</td>\n",
       "    </tr>\n",
       "  </tbody>\n",
       "</table>\n",
       "<p>268 rows × 2 columns</p>\n",
       "</div>"
      ],
      "text/plain": [
       "                                                sequence type_interaction\n",
       "60     GSDPQVLRGSGHCKWFNVRMGFGFISMTSREGSPLENPVDVFVHQS...           single\n",
       "62     QRIYSSIEEIIQQAQASEIGQKKEFYVYGNLVSIQMKNKLYYYRCT...           single\n",
       "74     MGEELREEERGEVRSELITKGEKKLVLIRWNTGKTSAGRLFGRYGP...           single\n",
       "89     MEGWQRAFVLHSRPWSETSLMLDVFTEESGRVRLVAKGARSKRSTL...           single\n",
       "188    MARGMNHVYLIGALARDPELRYTGNGMAVFEATVAGEDRVIGNDGR...           single\n",
       "...                                                  ...              ...\n",
       "47961  MASRGINKVILVGNLGNDPEIRYMPSGGAVANITVATSETWRDKAT...           single\n",
       "47962  MARGINKVILVGNLGNDPDTKYTQAGMAITRVSLATTSMRKDRDGN...           single\n",
       "47963  MYNKVILVGNLTRDVELRYLPSGSALAKIGIATNRRFKKQDGSQGD...           single\n",
       "47964  MPKSKELVSSSSSGSDSDSEVEKKLKRKKQAVPEKPVKKQKPGETS...           single\n",
       "47965  MDIKVHFHDFSHVRIDCEESTFHELRDFFSFEADGYRFNPRFRYGN...           single\n",
       "\n",
       "[268 rows x 2 columns]"
      ]
     },
     "execution_count": 10,
     "metadata": {},
     "output_type": "execute_result"
    }
   ],
   "source": [
    "dna_single = df_data_single_double_filter[(df_data_single_double_filter['single dna'] == 1) & (df_data_single_double_filter['double dna'] == 0)]\n",
    "dna_single = dna_single[[\"sequence\"]]\n",
    "dna_single['type_interaction'] = \"single\"\n",
    "dna_single"
   ]
  },
  {
   "cell_type": "code",
   "execution_count": 11,
   "metadata": {},
   "outputs": [
    {
     "data": {
      "text/html": [
       "<div>\n",
       "<style scoped>\n",
       "    .dataframe tbody tr th:only-of-type {\n",
       "        vertical-align: middle;\n",
       "    }\n",
       "\n",
       "    .dataframe tbody tr th {\n",
       "        vertical-align: top;\n",
       "    }\n",
       "\n",
       "    .dataframe thead th {\n",
       "        text-align: right;\n",
       "    }\n",
       "</style>\n",
       "<table border=\"1\" class=\"dataframe\">\n",
       "  <thead>\n",
       "    <tr style=\"text-align: right;\">\n",
       "      <th></th>\n",
       "      <th>sequence</th>\n",
       "      <th>type_interaction</th>\n",
       "    </tr>\n",
       "  </thead>\n",
       "  <tbody>\n",
       "    <tr>\n",
       "      <th>31</th>\n",
       "      <td>MDNSVETIELKRGSNSVYVQYDDIMFFESSTKSHRLIAHLDNRQIE...</td>\n",
       "      <td>double</td>\n",
       "    </tr>\n",
       "    <tr>\n",
       "      <th>52</th>\n",
       "      <td>MIERILEFTAKHEEWIVGENVEDFTNENIAMFLSRVSNTVSSKIPG...</td>\n",
       "      <td>double</td>\n",
       "    </tr>\n",
       "    <tr>\n",
       "      <th>53</th>\n",
       "      <td>MRSSILFLLKLMKIMDVQQQQEAMSSEDRFQELVDSLKPRTAHQYK...</td>\n",
       "      <td>double</td>\n",
       "    </tr>\n",
       "    <tr>\n",
       "      <th>208</th>\n",
       "      <td>MPKSEIRKLLQEIKKQVDNPGNSSTTEIKKMASEAGIDEQTAEEIY...</td>\n",
       "      <td>double</td>\n",
       "    </tr>\n",
       "    <tr>\n",
       "      <th>251</th>\n",
       "      <td>ENSVFFGKKKKVSLHLLVDPDMKDEIIKYAQEKDFDNVSQAGREIL...</td>\n",
       "      <td>double</td>\n",
       "    </tr>\n",
       "    <tr>\n",
       "      <th>...</th>\n",
       "      <td>...</td>\n",
       "      <td>...</td>\n",
       "    </tr>\n",
       "    <tr>\n",
       "      <th>47908</th>\n",
       "      <td>MNEIVVKGARVHNLKNITVRIPKNRLVVITGVSGSGKSSLAMDTIY...</td>\n",
       "      <td>double</td>\n",
       "    </tr>\n",
       "    <tr>\n",
       "      <th>47909</th>\n",
       "      <td>MADRLIVRGAREHNLKNVSLDLPRDSLIVFTGLSGSGKSSLAFDTI...</td>\n",
       "      <td>double</td>\n",
       "    </tr>\n",
       "    <tr>\n",
       "      <th>47910</th>\n",
       "      <td>MQHKTIMDKIIIQGARENNLKNIFLEIPKNQFVVFTGLSGSGKSTL...</td>\n",
       "      <td>double</td>\n",
       "    </tr>\n",
       "    <tr>\n",
       "      <th>47966</th>\n",
       "      <td>MTMESGAENQQSGDAAVTEAENQQMTVQAQPQIATLAQVSMPAAHA...</td>\n",
       "      <td>double</td>\n",
       "    </tr>\n",
       "    <tr>\n",
       "      <th>47967</th>\n",
       "      <td>MAAKKTVTKADLVDQVAQATGLKKKDVKAMVDALLAKVEEALANGS...</td>\n",
       "      <td>double</td>\n",
       "    </tr>\n",
       "  </tbody>\n",
       "</table>\n",
       "<p>965 rows × 2 columns</p>\n",
       "</div>"
      ],
      "text/plain": [
       "                                                sequence type_interaction\n",
       "31     MDNSVETIELKRGSNSVYVQYDDIMFFESSTKSHRLIAHLDNRQIE...           double\n",
       "52     MIERILEFTAKHEEWIVGENVEDFTNENIAMFLSRVSNTVSSKIPG...           double\n",
       "53     MRSSILFLLKLMKIMDVQQQQEAMSSEDRFQELVDSLKPRTAHQYK...           double\n",
       "208    MPKSEIRKLLQEIKKQVDNPGNSSTTEIKKMASEAGIDEQTAEEIY...           double\n",
       "251    ENSVFFGKKKKVSLHLLVDPDMKDEIIKYAQEKDFDNVSQAGREIL...           double\n",
       "...                                                  ...              ...\n",
       "47908  MNEIVVKGARVHNLKNITVRIPKNRLVVITGVSGSGKSSLAMDTIY...           double\n",
       "47909  MADRLIVRGAREHNLKNVSLDLPRDSLIVFTGLSGSGKSSLAFDTI...           double\n",
       "47910  MQHKTIMDKIIIQGARENNLKNIFLEIPKNQFVVFTGLSGSGKSTL...           double\n",
       "47966  MTMESGAENQQSGDAAVTEAENQQMTVQAQPQIATLAQVSMPAAHA...           double\n",
       "47967  MAAKKTVTKADLVDQVAQATGLKKKDVKAMVDALLAKVEEALANGS...           double\n",
       "\n",
       "[965 rows x 2 columns]"
      ]
     },
     "execution_count": 11,
     "metadata": {},
     "output_type": "execute_result"
    }
   ],
   "source": [
    "dna_double = df_data_single_double_filter[(df_data_single_double_filter['single dna'] == 0) & (df_data_single_double_filter['double dna'] == 1)]\n",
    "dna_double = dna_double[[\"sequence\"]]\n",
    "dna_double['type_interaction'] = \"double\"\n",
    "dna_double"
   ]
  },
  {
   "cell_type": "code",
   "execution_count": 12,
   "metadata": {},
   "outputs": [],
   "source": [
    "dna_concat = pd.concat([dna_single, dna_double], axis=0)\n",
    "dna_concat.to_csv(\"../dataset_to_encode/single_double_dna.csv\", index=False)"
   ]
  },
  {
   "cell_type": "code",
   "execution_count": 14,
   "metadata": {},
   "outputs": [
    {
     "data": {
      "text/plain": [
       "double    965\n",
       "single    268\n",
       "Name: type_interaction, dtype: int64"
      ]
     },
     "execution_count": 14,
     "metadata": {},
     "output_type": "execute_result"
    }
   ],
   "source": [
    "dna_concat['type_interaction'].value_counts()"
   ]
  },
  {
   "cell_type": "code",
   "execution_count": 13,
   "metadata": {},
   "outputs": [
    {
     "data": {
      "text/plain": [
       "0.0    26982\n",
       "1.0    20518\n",
       "Name: dna_interaction, dtype: int64"
      ]
     },
     "execution_count": 13,
     "metadata": {},
     "output_type": "execute_result"
    }
   ],
   "source": [
    "df_data_dna_binding_filter['dna_interaction'].value_counts()"
   ]
  }
 ],
 "metadata": {
  "kernelspec": {
   "display_name": "data_driven_library",
   "language": "python",
   "name": "python3"
  },
  "language_info": {
   "codemirror_mode": {
    "name": "ipython",
    "version": 3
   },
   "file_extension": ".py",
   "mimetype": "text/x-python",
   "name": "python",
   "nbconvert_exporter": "python",
   "pygments_lexer": "ipython3",
   "version": "3.9.16 (main, Jan 11 2023, 16:05:54) \n[GCC 11.2.0]"
  },
  "orig_nbformat": 4,
  "vscode": {
   "interpreter": {
    "hash": "719ac6498791fc2cdf3fdd830342d329111fbbe3a5d8330fcacca33925f1200b"
   }
  }
 },
 "nbformat": 4,
 "nbformat_minor": 2
}
