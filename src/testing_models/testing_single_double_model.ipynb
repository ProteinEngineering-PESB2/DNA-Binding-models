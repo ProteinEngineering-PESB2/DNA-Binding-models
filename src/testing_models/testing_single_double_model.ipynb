{
 "cells": [
  {
   "cell_type": "code",
   "execution_count": 1,
   "metadata": {},
   "outputs": [],
   "source": [
    "import pandas as pd\n",
    "import sys\n",
    "sys.path.insert(0, \"../\")\n",
    "from coding_strategies.lib.apply_pretrained_models import using_bioembedding\n",
    "from joblib import load\n",
    "\n",
    "import warnings\n",
    "warnings.filterwarnings(\"ignore\")"
   ]
  },
  {
   "cell_type": "code",
   "execution_count": 2,
   "metadata": {},
   "outputs": [],
   "source": [
    "model_predict = load(\"../../trained_models/single_double/ExtraTreesClassifier_prottrans_t5_xlu50.joblib\")"
   ]
  },
  {
   "cell_type": "code",
   "execution_count": 11,
   "metadata": {},
   "outputs": [],
   "source": [
    "sequences_to_explore = [\n",
    "    \"MATVKFKYKGEEKEVDISKIKKVWRVGKMISFTYDEGGGKTGRGAVSEKDAPKELLQMLEKQKK\",\n",
    "    \"DRVKRPMNAFIVWSRDQRRKMALENPRMRNSEISKQLGYQWKMLTEAEKWPFFQEAQKLQAMHREKYPNYKYR\",\n",
    "    \"MNEKSLNKIMLIGRVGCEPDIKILNGGDKVATFSLATNEFWRDRNTNELKSKTDWHRIVVYDQNIVDLIDKYLRKGRRVYVQGSLHTRKWHTSQPKQITEIILSYNKGDLIFLD\"\n",
    "]\n",
    "\n",
    "responses = [\"double\", \"double\", \"single\"]\n",
    "\n",
    "df_test = pd.DataFrame()\n",
    "df_test['responses'] = responses\n",
    "df_test['sequence'] = sequences_to_explore\n",
    "df_test.to_csv(\"demo_input.csv\", index=False)"
   ]
  },
  {
   "cell_type": "code",
   "execution_count": 14,
   "metadata": {},
   "outputs": [
    {
     "data": {
      "text/html": [
       "<div>\n",
       "<style scoped>\n",
       "    .dataframe tbody tr th:only-of-type {\n",
       "        vertical-align: middle;\n",
       "    }\n",
       "\n",
       "    .dataframe tbody tr th {\n",
       "        vertical-align: top;\n",
       "    }\n",
       "\n",
       "    .dataframe thead th {\n",
       "        text-align: right;\n",
       "    }\n",
       "</style>\n",
       "<table border=\"1\" class=\"dataframe\">\n",
       "  <thead>\n",
       "    <tr style=\"text-align: right;\">\n",
       "      <th></th>\n",
       "      <th>p_0</th>\n",
       "      <th>p_1</th>\n",
       "      <th>p_2</th>\n",
       "      <th>p_3</th>\n",
       "      <th>p_4</th>\n",
       "      <th>p_5</th>\n",
       "      <th>p_6</th>\n",
       "      <th>p_7</th>\n",
       "      <th>p_8</th>\n",
       "      <th>p_9</th>\n",
       "      <th>...</th>\n",
       "      <th>p_1014</th>\n",
       "      <th>p_1015</th>\n",
       "      <th>p_1016</th>\n",
       "      <th>p_1017</th>\n",
       "      <th>p_1018</th>\n",
       "      <th>p_1019</th>\n",
       "      <th>p_1020</th>\n",
       "      <th>p_1021</th>\n",
       "      <th>p_1022</th>\n",
       "      <th>p_1023</th>\n",
       "    </tr>\n",
       "  </thead>\n",
       "  <tbody>\n",
       "    <tr>\n",
       "      <th>0</th>\n",
       "      <td>0.021729</td>\n",
       "      <td>-0.050598</td>\n",
       "      <td>0.016327</td>\n",
       "      <td>-0.061676</td>\n",
       "      <td>-0.079590</td>\n",
       "      <td>0.032471</td>\n",
       "      <td>-0.012024</td>\n",
       "      <td>-0.137451</td>\n",
       "      <td>-0.079956</td>\n",
       "      <td>0.086365</td>\n",
       "      <td>...</td>\n",
       "      <td>0.075256</td>\n",
       "      <td>-0.030991</td>\n",
       "      <td>0.035583</td>\n",
       "      <td>-0.116760</td>\n",
       "      <td>-0.002031</td>\n",
       "      <td>-0.051025</td>\n",
       "      <td>-0.038605</td>\n",
       "      <td>0.012230</td>\n",
       "      <td>0.008728</td>\n",
       "      <td>0.012245</td>\n",
       "    </tr>\n",
       "    <tr>\n",
       "      <th>1</th>\n",
       "      <td>0.020630</td>\n",
       "      <td>0.039978</td>\n",
       "      <td>-0.022705</td>\n",
       "      <td>-0.068420</td>\n",
       "      <td>0.073608</td>\n",
       "      <td>0.032928</td>\n",
       "      <td>0.013039</td>\n",
       "      <td>-0.047760</td>\n",
       "      <td>-0.052582</td>\n",
       "      <td>0.015762</td>\n",
       "      <td>...</td>\n",
       "      <td>-0.097839</td>\n",
       "      <td>0.013092</td>\n",
       "      <td>-0.149414</td>\n",
       "      <td>-0.051117</td>\n",
       "      <td>0.015762</td>\n",
       "      <td>0.006268</td>\n",
       "      <td>0.007988</td>\n",
       "      <td>-0.038452</td>\n",
       "      <td>0.064331</td>\n",
       "      <td>-0.022766</td>\n",
       "    </tr>\n",
       "    <tr>\n",
       "      <th>2</th>\n",
       "      <td>-0.000346</td>\n",
       "      <td>0.043671</td>\n",
       "      <td>-0.009758</td>\n",
       "      <td>-0.062561</td>\n",
       "      <td>-0.019714</td>\n",
       "      <td>0.042816</td>\n",
       "      <td>-0.023056</td>\n",
       "      <td>-0.078491</td>\n",
       "      <td>-0.018158</td>\n",
       "      <td>0.007092</td>\n",
       "      <td>...</td>\n",
       "      <td>0.008331</td>\n",
       "      <td>0.013062</td>\n",
       "      <td>0.001375</td>\n",
       "      <td>-0.134644</td>\n",
       "      <td>-0.007874</td>\n",
       "      <td>-0.058838</td>\n",
       "      <td>0.053467</td>\n",
       "      <td>-0.061005</td>\n",
       "      <td>0.071350</td>\n",
       "      <td>0.076233</td>\n",
       "    </tr>\n",
       "  </tbody>\n",
       "</table>\n",
       "<p>3 rows × 1024 columns</p>\n",
       "</div>"
      ],
      "text/plain": [
       "        p_0       p_1       p_2       p_3       p_4       p_5       p_6  \\\n",
       "0  0.021729 -0.050598  0.016327 -0.061676 -0.079590  0.032471 -0.012024   \n",
       "1  0.020630  0.039978 -0.022705 -0.068420  0.073608  0.032928  0.013039   \n",
       "2 -0.000346  0.043671 -0.009758 -0.062561 -0.019714  0.042816 -0.023056   \n",
       "\n",
       "        p_7       p_8       p_9  ...    p_1014    p_1015    p_1016    p_1017  \\\n",
       "0 -0.137451 -0.079956  0.086365  ...  0.075256 -0.030991  0.035583 -0.116760   \n",
       "1 -0.047760 -0.052582  0.015762  ... -0.097839  0.013092 -0.149414 -0.051117   \n",
       "2 -0.078491 -0.018158  0.007092  ...  0.008331  0.013062  0.001375 -0.134644   \n",
       "\n",
       "     p_1018    p_1019    p_1020    p_1021    p_1022    p_1023  \n",
       "0 -0.002031 -0.051025 -0.038605  0.012230  0.008728  0.012245  \n",
       "1  0.015762  0.006268  0.007988 -0.038452  0.064331 -0.022766  \n",
       "2 -0.007874 -0.058838  0.053467 -0.061005  0.071350  0.076233  \n",
       "\n",
       "[3 rows x 1024 columns]"
      ]
     },
     "execution_count": 14,
     "metadata": {},
     "output_type": "execute_result"
    }
   ],
   "source": [
    "coding_data = pd.read_csv(\"prottrans_t5_xlu50.csv\")\n",
    "responses = coding_data['responses']\n",
    "coding_data = coding_data.drop(columns=['responses'])\n",
    "coding_data"
   ]
  },
  {
   "cell_type": "code",
   "execution_count": 15,
   "metadata": {},
   "outputs": [
    {
     "data": {
      "text/plain": [
       "array([0, 0, 1])"
      ]
     },
     "execution_count": 15,
     "metadata": {},
     "output_type": "execute_result"
    }
   ],
   "source": [
    "predictions = model_predict.predict(coding_data)\n",
    "predictions"
   ]
  }
 ],
 "metadata": {
  "kernelspec": {
   "display_name": "data_driven_library",
   "language": "python",
   "name": "python3"
  },
  "language_info": {
   "codemirror_mode": {
    "name": "ipython",
    "version": 3
   },
   "file_extension": ".py",
   "mimetype": "text/x-python",
   "name": "python",
   "nbconvert_exporter": "python",
   "pygments_lexer": "ipython3",
   "version": "3.9.16 (main, Jan 11 2023, 16:05:54) \n[GCC 11.2.0]"
  },
  "orig_nbformat": 4,
  "vscode": {
   "interpreter": {
    "hash": "719ac6498791fc2cdf3fdd830342d329111fbbe3a5d8330fcacca33925f1200b"
   }
  }
 },
 "nbformat": 4,
 "nbformat_minor": 2
}
