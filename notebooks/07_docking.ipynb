{
 "cells": [
  {
   "cell_type": "code",
   "execution_count": 1,
   "metadata": {},
   "outputs": [],
   "source": [
    "import sys\n",
    "sys.path.insert(0, '../rudeus')\n",
    "from docking.docking import Docking"
   ]
  },
  {
   "cell_type": "code",
   "execution_count": 2,
   "metadata": {},
   "outputs": [
    {
     "name": "stdout",
     "output_type": "stream",
     "text": [
      "lightdock3_setup.py dna_1azp_h_reduced_amber_final.pdb protein_1azp_h_final.pdb -s 10\n"
     ]
    },
    {
     "name": "stderr",
     "output_type": "stream",
     "text": [
      "@> ProDy is configured: verbosity='none'\n"
     ]
    },
    {
     "name": "stdout",
     "output_type": "stream",
     "text": [
      "[lightdock3_setup] INFO: Reading structure from dna_1azp_h_reduced_amber_final.pdb PDB file...\n",
      "[lightdock3_setup] INFO: 1093 atoms, 66 residues read.\n",
      "[lightdock3_setup] INFO: Reading structure from protein_1azp_h_final.pdb PDB file...\n",
      "[lightdock3_setup] INFO: 1093 atoms, 66 residues read.\n",
      "[lightdock3_setup] INFO: Calculating reference points for receptor dna_1azp_h_reduced_amber_final.pdb...\n",
      "[lightdock3_setup] INFO: Reference points for receptor found, skipping\n",
      "[lightdock3_setup] INFO: Done.\n",
      "[lightdock3_setup] INFO: Calculating reference points for ligand protein_1azp_h_final.pdb...\n",
      "[lightdock3_setup] INFO: Reference points for ligand found, skipping\n",
      "[lightdock3_setup] INFO: Done.\n",
      "[lightdock3_setup] INFO: Saving processed structure to PDB file...\n",
      "[lightdock3_setup] INFO: Done.\n",
      "[lightdock3_setup] INFO: Saving processed structure to PDB file...\n",
      "[lightdock3_setup] INFO: Done.\n",
      "[lightdock3_setup] INFO: Calculating starting positions...\n",
      "[lightdock3_setup] INFO:   * Surface density: TotalSASA/50.00\n",
      "[lightdock3_setup] INFO:   * Swarm radius: 10.00 Å\n",
      "[lightdock3_setup] INFO:   * 180° flip of 50% of starting poses: False\n",
      "[lightdock3_setup] INFO:   * Ligand Max Diameter: 39.52 Å\n",
      "[lightdock3_setup] INFO:   * Surface distance: 9.88 Å\n",
      "[lightdock3_setup] INFO: Swarms after incompatible filter: 433\n",
      "[lightdock3_setup] INFO: Swarms after interior points filter: 394\n",
      "[lightdock3_setup] INFO: Generated 10 positions files\n",
      "[lightdock3_setup] INFO: Done.\n",
      "[lightdock3_setup] INFO: Preparing environment\n",
      "[lightdock3_setup] INFO: Done.\n",
      "[lightdock3_setup] INFO: LightDock setup OK\n",
      "lightdock3.py setup.json 5 -s dna -c 1\n",
      "[lightdock] INFO: simulation parameters saved to lightdock.info\n",
      "[lightdock3_setup] INFO: Reading structure from lightdock_dna_1azp_h_reduced_amber_final.pdb PDB file...\n",
      "[lightdock3_setup] INFO: 1093 atoms, 66 residues read.\n",
      "[lightdock3_setup] INFO: Reading structure from lightdock_protein_1azp_h_final.pdb PDB file...\n",
      "[lightdock3_setup] INFO: 1093 atoms, 66 residues read.\n",
      "[lightdock] INFO: Loading scoring function...\n",
      "[lightdock] INFO: Using DNA scoring function\n",
      "[dna] WARNING: Error ([Errno 2] No such file or directory: 'vdw.in'), using default VdW cutoff\n",
      "[dna] INFO: DNA VdW cutoff is: 1.00\n",
      "[lightdock] INFO: Done.\n",
      "[kraken] INFO: Kraken has 1 tentacles (cpu cores)\n",
      "[kraken] INFO: Tentacle ready with 10 tasks\n",
      "[kraken] INFO: 10 ships ready to be smashed\n",
      "[lightdock] INFO: Monster spotted\n",
      "[kraken] INFO: Release the Kraken!\n",
      "[0] step 1\n",
      "[0] step 2\n",
      "[0] step 3\n",
      "[0] step 4\n",
      "[0] step 5\n",
      "[1] step 1\n",
      "[1] step 2\n",
      "[1] step 3\n",
      "[1] step 4\n",
      "[1] step 5\n",
      "[2] step 1\n",
      "[2] step 2\n",
      "[2] step 3\n",
      "[2] step 4\n",
      "[2] step 5\n",
      "[3] step 1\n",
      "[3] step 2\n",
      "[3] step 3\n",
      "[3] step 4\n",
      "[3] step 5\n",
      "[4] step 1\n",
      "[4] step 2\n",
      "[4] step 3\n",
      "[4] step 4\n",
      "[4] step 5\n",
      "[5] step 1\n",
      "[5] step 2\n",
      "[5] step 3\n",
      "[5] step 4\n",
      "[5] step 5\n",
      "[6] step 1\n",
      "[6] step 2\n",
      "[6] step 3\n",
      "[6] step 4\n",
      "[6] step 5\n",
      "[7] step 1\n",
      "[7] step 2\n",
      "[7] step 3\n",
      "[7] step 4\n",
      "[7] step 5\n",
      "[8] step 1\n",
      "[8] step 2\n",
      "[8] step 3\n",
      "[8] step 4\n",
      "[8] step 5\n",
      "[9] step 1\n",
      "[9] step 2\n",
      "[9] step 3\n",
      "[9] step 4\n",
      "[9] step 5\n",
      "[kraken] INFO: folding tentacle Tentacle-1\n",
      "[kraken] INFO: 10 ships destroyed\n",
      "[lightdock] INFO: Finished.\n",
      "echo \"cd swarm_8; lgd_generate_conformations.py ../dna_1azp_h_reduced_amber_final.pdb ../protein_1azp_h_final.pdb  gso_5.out 200 > /dev/null 2> /dev/null;\" >> generate_lightdock.list;\n",
      "echo \"cd swarm_8; lgd_cluster_bsas.py gso_5.out > /dev/null 2> /dev/null;\" >> cluster_lightdock.list;\n",
      "echo \"cd swarm_3; lgd_generate_conformations.py ../dna_1azp_h_reduced_amber_final.pdb ../protein_1azp_h_final.pdb  gso_5.out 200 > /dev/null 2> /dev/null;\" >> generate_lightdock.list;\n",
      "echo \"cd swarm_3; lgd_cluster_bsas.py gso_5.out > /dev/null 2> /dev/null;\" >> cluster_lightdock.list;\n",
      "echo \"cd swarm_5; lgd_generate_conformations.py ../dna_1azp_h_reduced_amber_final.pdb ../protein_1azp_h_final.pdb  gso_5.out 200 > /dev/null 2> /dev/null;\" >> generate_lightdock.list;\n",
      "echo \"cd swarm_5; lgd_cluster_bsas.py gso_5.out > /dev/null 2> /dev/null;\" >> cluster_lightdock.list;\n",
      "echo \"cd swarm_6; lgd_generate_conformations.py ../dna_1azp_h_reduced_amber_final.pdb ../protein_1azp_h_final.pdb  gso_5.out 200 > /dev/null 2> /dev/null;\" >> generate_lightdock.list;\n",
      "echo \"cd swarm_6; lgd_cluster_bsas.py gso_5.out > /dev/null 2> /dev/null;\" >> cluster_lightdock.list;\n",
      "echo \"cd swarm_7; lgd_generate_conformations.py ../dna_1azp_h_reduced_amber_final.pdb ../protein_1azp_h_final.pdb  gso_5.out 200 > /dev/null 2> /dev/null;\" >> generate_lightdock.list;\n",
      "echo \"cd swarm_7; lgd_cluster_bsas.py gso_5.out > /dev/null 2> /dev/null;\" >> cluster_lightdock.list;\n",
      "echo \"cd swarm_9; lgd_generate_conformations.py ../dna_1azp_h_reduced_amber_final.pdb ../protein_1azp_h_final.pdb  gso_5.out 200 > /dev/null 2> /dev/null;\" >> generate_lightdock.list;\n",
      "echo \"cd swarm_9; lgd_cluster_bsas.py gso_5.out > /dev/null 2> /dev/null;\" >> cluster_lightdock.list;\n",
      "echo \"cd swarm_4; lgd_generate_conformations.py ../dna_1azp_h_reduced_amber_final.pdb ../protein_1azp_h_final.pdb  gso_5.out 200 > /dev/null 2> /dev/null;\" >> generate_lightdock.list;\n",
      "echo \"cd swarm_4; lgd_cluster_bsas.py gso_5.out > /dev/null 2> /dev/null;\" >> cluster_lightdock.list;\n",
      "echo \"cd swarm_2; lgd_generate_conformations.py ../dna_1azp_h_reduced_amber_final.pdb ../protein_1azp_h_final.pdb  gso_5.out 200 > /dev/null 2> /dev/null;\" >> generate_lightdock.list;\n",
      "echo \"cd swarm_2; lgd_cluster_bsas.py gso_5.out > /dev/null 2> /dev/null;\" >> cluster_lightdock.list;\n",
      "echo \"cd swarm_1; lgd_generate_conformations.py ../dna_1azp_h_reduced_amber_final.pdb ../protein_1azp_h_final.pdb  gso_5.out 200 > /dev/null 2> /dev/null;\" >> generate_lightdock.list;\n",
      "echo \"cd swarm_1; lgd_cluster_bsas.py gso_5.out > /dev/null 2> /dev/null;\" >> cluster_lightdock.list;\n",
      "echo \"cd swarm_0; lgd_generate_conformations.py ../dna_1azp_h_reduced_amber_final.pdb ../protein_1azp_h_final.pdb  gso_5.out 200 > /dev/null 2> /dev/null;\" >> generate_lightdock.list;\n",
      "echo \"cd swarm_0; lgd_cluster_bsas.py gso_5.out > /dev/null 2> /dev/null;\" >> cluster_lightdock.list;\n",
      "ant_thony.py -c 1 generate_lightdock.list;\n"
     ]
    },
    {
     "name": "stderr",
     "output_type": "stream",
     "text": [
      "[🐜-Thony] INFO: 🐜-Thony will use 1 cores\n",
      "[🐜-Thony] INFO: 🐜-1 ready with 10 tasks\n",
      "[🐜-Thony] INFO: Swarming!\n",
      "[🐜-Thony] INFO: 🐜-1 going back to the nest\n",
      "[🐜-Thony] INFO: 10 tasks done\n",
      "[🐜-Thony] INFO: All 🐜 back to the nest\n",
      "[🐜-Thony] INFO: 🐜-Thony will use 1 cores\n",
      "[🐜-Thony] INFO: 🐜-1 ready with 10 tasks\n",
      "[🐜-Thony] INFO: Swarming!\n"
     ]
    },
    {
     "name": "stdout",
     "output_type": "stream",
     "text": [
      "ant_thony.py -c 1 cluster_lightdock.list;\n"
     ]
    },
    {
     "name": "stderr",
     "output_type": "stream",
     "text": [
      "[🐜-Thony] INFO: 🐜-1 going back to the nest\n",
      "[🐜-Thony] INFO: 10 tasks done\n",
      "[🐜-Thony] INFO: All 🐜 back to the nest\n"
     ]
    },
    {
     "name": "stdout",
     "output_type": "stream",
     "text": [
      "lgd_rank.py 10 5;\n",
      "[lgd_rank] INFO: Number of swarms: 10\n",
      "[lgd_rank] INFO: Number of steps: 5\n",
      "[lgd_rank] INFO: Output files: gso_5.out\n",
      "[lgd_rank] INFO: Number of swarms processed: 10\n",
      "[lgd_rank] INFO: Done.\n",
      "lgd_copy_structures.py rank_by_scoring.list;\n"
     ]
    }
   ],
   "source": [
    "dock = Docking(protein_pdb_path=\"../rudeus_data/bioinformatics_validation/structures/output/dna_1azp_h_reduced_amber_final.pdb\",\n",
    "        dna_pdb_path=\"../rudeus_data/bioinformatics_validation/structures/output/protein_1azp_h_final.pdb\")\n",
    "dock.execute_lightdock(steps=5)"
   ]
  }
 ],
 "metadata": {
  "kernelspec": {
   "display_name": "dna_binding",
   "language": "python",
   "name": "python3"
  },
  "language_info": {
   "codemirror_mode": {
    "name": "ipython",
    "version": 3
   },
   "file_extension": ".py",
   "mimetype": "text/x-python",
   "name": "python",
   "nbconvert_exporter": "python",
   "pygments_lexer": "ipython3",
   "version": "3.9.18"
  }
 },
 "nbformat": 4,
 "nbformat_minor": 2
}
