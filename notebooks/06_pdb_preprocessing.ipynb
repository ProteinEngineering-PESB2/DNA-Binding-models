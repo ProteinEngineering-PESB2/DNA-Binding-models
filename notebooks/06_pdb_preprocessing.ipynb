{
 "cells": [
  {
   "cell_type": "code",
   "execution_count": 1,
   "metadata": {},
   "outputs": [],
   "source": [
    "import sys\n",
    "sys.path.insert(0, '../rudeus')\n",
    "from docking.preprocessing import Preprocessing"
   ]
  },
  {
   "cell_type": "code",
   "execution_count": 2,
   "metadata": {},
   "outputs": [
    {
     "name": "stdout",
     "output_type": "stream",
     "text": [
      "1\n"
     ]
    },
    {
     "name": "stderr",
     "output_type": "stream",
     "text": [
      "reduce: version 3.24 07/24/2013, Copyright 1997-2013, J. Michael Word\n",
      "Processing file: \"../nicole/scripts/structures/protein_1azp.pdb\"\n",
      "Trimming: removed 140 hydrogens (0 hets)\n",
      "If you publish work which uses reduce, please cite:\n",
      "Word, et. al. (1999) J. Mol. Biol. 285, 1735-1747.\n",
      "For more information see http://kinemage.biochem.duke.edu\n",
      "reduce: version 3.24 07/24/2013, Copyright 1997-2013, J. Michael Word\n",
      "Processing file: \"../nicole/scripts/structures/output/protein_1azp_noh.pdb\"\n",
      "Database of HETATM connections: \"/home/gabriel/anaconda3/envs/dna_binding/share/reduce/reduce_wwPDB_het_dict.txt\"\n",
      "VDW dot density = 16/A^2\n",
      "Orientation penalty scale = 1 (100%)\n",
      "Eliminate contacts within 3 bonds.\n",
      "Ignore atoms with |occupancy| <= 0.01 during adjustments.\n",
      "Waters ignored if B-Factor >= 40 or |occupancy| < 0.66\n",
      "Aromatic rings in amino acids accept hydrogen bonds.\n",
      "Building His ring NH Hydrogens.\n",
      "Flipping Asn, Gln and His groups.\n",
      "For each flip state, bumps where gap is more than 0.4A are indicated with '!'.\n",
      "Building or keeping OH & SH Hydrogens.\n",
      "Rotating existing OH & SH Hydrogens\n",
      "Rotating NH3 Hydrogens.\n",
      "Processing Met methyls.\n",
      " Singles(size 25): A   1 MET CE  : A   1 MET N   : A   3 LYS NZ  : A   5 LYS NZ  \n",
      "  : A   7 LYS NZ  : A   8 TYR OH  : A   9 LYS NZ  : A  13 LYS NZ  : A  17 THR OG1 \n",
      "  : A  18 SER OG  : A  19 LYS NZ  : A  22 LYS NZ  : A  28 LYS NZ  : A  29 MET CE  \n",
      "  : A  31 SER OG  : A  33 THR OG1 : A  34 TYR OH  : A  37 ASN     : A  39 LYS NZ  \n",
      "  : A  46 SER OG  : A  48 LYS NZ  : A  52 LYS NZ  : A  57 MET CE  : A  65 LYS NZ  \n",
      "  : A  66 LYS NZ  \n",
      " Set 1 (size 2): A  40 THR OG1 : A  21 LYS NZ  \n",
      " orientation 1: A   1 MET CE  :methyl  180: bump=0.000, HB=0.000, total=0.000\n",
      " orientation 1: A   1 MET N   :NH3+    180: bump=0.000, HB=0.000, total=0.000\n",
      " orientation 1: A   3 LYS NZ  :NH3+   -171: bump=-0.148, HB=0.000, total=-0.148\n",
      " orientation 2: A   5 LYS NZ  :NH3+   -141: bump=-0.537, HB=0.000, total=-0.537\n",
      " orientation 3: A   7 LYS NZ  :NH3+    158: bump=-0.075, HB=0.000, total=-0.075\n",
      " orientation 1: A   8 TYR OH  :   rot  180: bump=0.000, HB=0.000, total=0.000\n",
      " orientation 1: A   9 LYS NZ  :NH3+    180: bump=0.000, HB=0.000, total=0.000\n",
      " orientation 3: A  13 LYS NZ  :NH3+    142: bump=0.000, HB=0.153, total=0.153\n",
      " orientation 1: A  17 THR OG1 :   rot  130: bump=0.000, HB=0.000, total=0.000\n",
      " orientation 1: A  18 SER OG  :   rot  180: bump=-0.818, HB=0.017, total=-0.802\n",
      " orientation 1: A  19 LYS NZ  :NH3+    166: bump=0.000, HB=1.066, total=1.066\n",
      " orientation 1: A  22 LYS NZ  :NH3+    180: bump=0.000, HB=0.000, total=0.000\n",
      " orientation 1: A  28 LYS NZ  :NH3+    180: bump=0.000, HB=0.000, total=0.000\n",
      " orientation 3: A  29 MET CE  :methyl  153: bump=0.000, HB=0.000, total=0.000\n",
      " orientation 2: A  31 SER OG  :   rot -115: bump=0.000, HB=0.224, total=0.224\n",
      " orientation 1: A  33 THR OG1 :   rot  180: bump=-0.009, HB=0.090, total=0.081\n",
      " orientation 1: A  34 TYR OH  :   rot  180: bump=-0.014, HB=0.000, total=-0.014\n",
      " orientation 1: A  37 ASN     :      amide: bump=-0.417, HB=0.000, total=-0.417\n",
      " orientation 1: A  39 LYS NZ  :NH3+    180: bump=0.000, HB=0.000, total=0.000\n",
      " orientation 1: A  46 SER OG  :   rot  130: bump=-2.863, HB=0.000, total=-2.863, BADBUMP\n",
      " orientation 3: A  48 LYS NZ  :NH3+    160: bump=-0.054, HB=0.522, total=0.469\n",
      " orientation 1: A  52 LYS NZ  :NH3+    172: bump=-0.009, HB=0.751, total=0.742\n",
      " orientation 3: A  57 MET CE  :methyl  158: bump=0.000, HB=0.000, total=0.000\n",
      " orientation 4: A  65 LYS NZ  :NH3+   -112: bump=-0.184, HB=0.242, total=0.058\n",
      " orientation 1: A  66 LYS NZ  :NH3+    180: bump=0.000, HB=0.000, total=0.000\n",
      "\n",
      " Processing set: A  40 THR OG1 [1]: A  21 LYS NZ  [4]\n",
      " permutations: 4\n",
      " Computing dot scores\n",
      " Num optimizations problems to be solved for this clique: 1\n",
      " Beginning Optimization\n",
      " Dynamic programming succeeded to fully optimize hypergraph\n",
      " Optimal score following low resolution optimization: 1.449\n",
      "> : 1.593       \n",
      " Optimal score following high resolution, local optimization: 1.593\n",
      "Found 0 hydrogens (0 hets)\n",
      "Standardized 0 hydrogens (0 hets)\n",
      "Added 562 hydrogens (0 hets)\n",
      "Removed 0 hydrogens (0 hets)\n",
      "Adjusted 19 group(s)\n",
      "If you publish work which uses reduce, please cite:\n",
      "Word, et. al. (1999) J. Mol. Biol. 285, 1735-1747.\n",
      "For more information see http://kinemage.biochem.duke.edu\n",
      "reduce: version 3.24 07/24/2013, Copyright 1997-2013, J. Michael Word\n",
      "Processing file: \"../nicole/scripts/structures/dna_1azp.pdb\"\n",
      "Trimming: removed 40 hydrogens (0 hets)\n",
      "If you publish work which uses reduce, please cite:\n",
      "Word, et. al. (1999) J. Mol. Biol. 285, 1735-1747.\n",
      "For more information see http://kinemage.biochem.duke.edu\n",
      "reduce: version 3.24 07/24/2013, Copyright 1997-2013, J. Michael Word\n",
      "Processing file: \"../nicole/scripts/structures/output/dna_1azp_noh.pdb\"\n",
      "Database of HETATM connections: \"/home/gabriel/anaconda3/envs/dna_binding/share/reduce/reduce_wwPDB_het_dict.txt\"\n",
      "VDW dot density = 16/A^2\n",
      "Orientation penalty scale = 1 (100%)\n",
      "Eliminate contacts within 3 bonds.\n",
      "Ignore atoms with |occupancy| <= 0.01 during adjustments.\n",
      "Waters ignored if B-Factor >= 40 or |occupancy| < 0.66\n",
      "Aromatic rings in amino acids accept hydrogen bonds.\n",
      "Building His ring NH Hydrogens.\n",
      "Flipping Asn, Gln and His groups.\n",
      "For each flip state, bumps where gap is more than 0.4A are indicated with '!'.\n",
      "Building or keeping OH & SH Hydrogens.\n",
      "Rotating existing OH & SH Hydrogens\n",
      "Rotating NH3 Hydrogens.\n",
      "Processing Met methyls.\n"
     ]
    },
    {
     "name": "stdout",
     "output_type": "stream",
     "text": [
      "2\n",
      "3\n",
      "4\n",
      "Atom not found in mapping: DG.HO5'\n",
      "Atom not found in mapping: DC.HO3'\n",
      "Atom not found in mapping: DG.HO5'\n",
      "Atom not found in mapping: DC.HO3'\n",
      "5\n",
      "6\n"
     ]
    },
    {
     "name": "stderr",
     "output_type": "stream",
     "text": [
      " Singles(size 6): B 101  DG O5' : B 105  DT C7  : B 108  DC O3' : C 109  DG O5' \n",
      "  : C 113  DT C7  : C 116  DC O3' \n",
      " orientation 2: B 101  DG O5' :   rot  -81: bump=-0.054, HB=0.000, total=-0.054\n",
      " orientation 1: B 105  DT C7  :methyl  150: bump=0.000, HB=0.000, total=0.000\n",
      " orientation 1: B 108  DC O3' :   rot  180: bump=0.000, HB=0.000, total=0.000\n",
      " orientation 1: C 109  DG O5' :   rot  180: bump=-0.811, HB=0.000, total=-0.811\n",
      " orientation 1: C 113  DT C7  :methyl  150: bump=0.000, HB=0.000, total=0.000\n",
      " orientation 1: C 116  DC O3' :   rot  180: bump=0.000, HB=0.000, total=0.000\n",
      "Found 0 hydrogens (0 hets)\n",
      "Standardized 0 hydrogens (0 hets)\n",
      "Added 182 hydrogens (0 hets)\n",
      "Removed 0 hydrogens (0 hets)\n",
      "Adjusted 4 group(s)\n",
      "If you publish work which uses reduce, please cite:\n",
      "Word, et. al. (1999) J. Mol. Biol. 285, 1735-1747.\n",
      "For more information see http://kinemage.biochem.duke.edu\n",
      "/home/gabriel/anaconda3/envs/dna_binding/lib/python3.9/site-packages/Bio/PDB/PDBParser.py:395: PDBConstructionWarning: Ignoring unrecognized record 'TER' at line 1131\n",
      "  warnings.warn(\n",
      "/home/gabriel/anaconda3/envs/dna_binding/lib/python3.9/site-packages/Bio/PDB/PDBParser.py:395: PDBConstructionWarning: Ignoring unrecognized record 'END' at line 1132\n",
      "  warnings.warn(\n"
     ]
    }
   ],
   "source": [
    "preprocessing = Preprocessing(protein_pdb_path=\"../rudeus_data/bioinformatics_validation/structures/protein_1azp.pdb\",\n",
    "                              dna_pdb_path=\"../rudeus_data/bioinformatics_validation/structures/dna_1azp.pdb\")\n",
    "protein_pdb_path, dna_pdb_path = preprocessing.run()"
   ]
  }
 ],
 "metadata": {
  "kernelspec": {
   "display_name": "dna_binding",
   "language": "python",
   "name": "python3"
  },
  "language_info": {
   "codemirror_mode": {
    "name": "ipython",
    "version": 3
   },
   "file_extension": ".py",
   "mimetype": "text/x-python",
   "name": "python",
   "nbconvert_exporter": "python",
   "pygments_lexer": "ipython3",
   "version": "3.9.18"
  }
 },
 "nbformat": 4,
 "nbformat_minor": 2
}
